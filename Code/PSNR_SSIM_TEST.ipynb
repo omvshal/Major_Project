{
 "cells": [
  {
   "cell_type": "code",
   "execution_count": 1,
   "id": "64548773-9769-4fde-857a-de597b9caf55",
   "metadata": {},
   "outputs": [
    {
     "name": "stdout",
     "output_type": "stream",
     "text": [
      "Requirement already satisfied: scikit-image in /opt/anaconda3/lib/python3.12/site-packages (0.23.2)\n",
      "Requirement already satisfied: opencv-python in /opt/anaconda3/lib/python3.12/site-packages (4.10.0.84)\n",
      "Requirement already satisfied: numpy>=1.23 in /opt/anaconda3/lib/python3.12/site-packages (from scikit-image) (1.26.0)\n",
      "Requirement already satisfied: scipy>=1.9 in /opt/anaconda3/lib/python3.12/site-packages (from scikit-image) (1.13.1)\n",
      "Requirement already satisfied: networkx>=2.8 in /opt/anaconda3/lib/python3.12/site-packages (from scikit-image) (3.2.1)\n",
      "Requirement already satisfied: pillow>=9.1 in /opt/anaconda3/lib/python3.12/site-packages (from scikit-image) (10.3.0)\n",
      "Requirement already satisfied: imageio>=2.33 in /opt/anaconda3/lib/python3.12/site-packages (from scikit-image) (2.33.1)\n",
      "Requirement already satisfied: tifffile>=2022.8.12 in /opt/anaconda3/lib/python3.12/site-packages (from scikit-image) (2023.4.12)\n",
      "Requirement already satisfied: packaging>=21 in /opt/anaconda3/lib/python3.12/site-packages (from scikit-image) (23.2)\n",
      "Requirement already satisfied: lazy-loader>=0.4 in /opt/anaconda3/lib/python3.12/site-packages (from scikit-image) (0.4)\n",
      "\n",
      "\u001b[1m[\u001b[0m\u001b[34;49mnotice\u001b[0m\u001b[1;39;49m]\u001b[0m\u001b[39;49m A new release of pip is available: \u001b[0m\u001b[31;49m25.0\u001b[0m\u001b[39;49m -> \u001b[0m\u001b[32;49m25.1\u001b[0m\n",
      "\u001b[1m[\u001b[0m\u001b[34;49mnotice\u001b[0m\u001b[1;39;49m]\u001b[0m\u001b[39;49m To update, run: \u001b[0m\u001b[32;49mpip install --upgrade pip\u001b[0m\n",
      "Note: you may need to restart the kernel to use updated packages.\n"
     ]
    }
   ],
   "source": [
    "pip install scikit-image opencv-python"
   ]
  },
  {
   "cell_type": "code",
   "execution_count": 30,
   "id": "e908b1c9-5e86-4677-996a-409be7228309",
   "metadata": {},
   "outputs": [
    {
     "name": "stdout",
     "output_type": "stream",
     "text": [
      "Found 8 matching frames.\n",
      "\n",
      "Average PSNR: 14.67 dB\n",
      "Average SSIM: 0.4696\n"
     ]
    },
    {
     "data": {
      "text/plain": [
       "(14.672668089332848, 0.4695919574522594)"
      ]
     },
     "execution_count": 30,
     "metadata": {},
     "output_type": "execute_result"
    }
   ],
   "source": [
    "import os\n",
    "import re\n",
    "import cv2\n",
    "import numpy as np\n",
    "from skimage.metrics import peak_signal_noise_ratio, structural_similarity\n",
    "\n",
    "# Function to extract index from original frames\n",
    "def index_from_original(filename):\n",
    "    \"\"\"\n",
    "    Extracts frame index from original filenames like 'frame_0002.png'\n",
    "    \"\"\"\n",
    "    m = re.search(r\"frame_(\\d+)\", filename)\n",
    "    return int(m.group(1)) if m else None\n",
    "\n",
    "# Function to extract index from generated frames\n",
    "def index_from_generated(filename):\n",
    "    \"\"\"\n",
    "    Extracts frame index from generated filenames like 'epoch250_sample2.png'\n",
    "    \"\"\"\n",
    "    m = re.search(r\"sample(\\d+)\", filename)\n",
    "    return int(m.group(1)) if m else None\n",
    "\n",
    "# Main function to calculate PSNR and SSIM\n",
    "def calculate_psnr_ssim(actual_dir, gen_dir):\n",
    "    # Build maps from index to filepath\n",
    "    orig_map = { index_from_original(fn): os.path.join(actual_dir, fn)\n",
    "                 for fn in os.listdir(actual_dir)\n",
    "                 if index_from_original(fn) is not None }\n",
    "    \n",
    "    gen_map  = { index_from_generated(fn): os.path.join(gen_dir, fn)\n",
    "                 for fn in os.listdir(gen_dir)\n",
    "                 if index_from_generated(fn) is not None }\n",
    "\n",
    "    # Find common frame indices\n",
    "    common = sorted(set(orig_map.keys()) & set(gen_map.keys()))\n",
    "    if not common:\n",
    "        raise RuntimeError(\"No matching frame indices found – check your filename patterns!\")\n",
    "\n",
    "    print(f\"Found {len(common)} matching frames.\\n\")\n",
    "\n",
    "    psnrs = []\n",
    "    ssims = []\n",
    "\n",
    "    for idx in common:\n",
    "        # Read and convert images\n",
    "        A = cv2.cvtColor(cv2.imread(orig_map[idx]), cv2.COLOR_BGR2RGB)\n",
    "        G = cv2.cvtColor(cv2.imread(gen_map[idx]),  cv2.COLOR_BGR2RGB)\n",
    "\n",
    "        # Resize generated image if necessary\n",
    "        if A.shape != G.shape:\n",
    "            G = cv2.resize(G, (A.shape[1], A.shape[0]))\n",
    "\n",
    "        # Calculate PSNR\n",
    "        psnr_val = peak_signal_noise_ratio(A, G, data_range=255)\n",
    "        psnrs.append(psnr_val)\n",
    "\n",
    "        # Calculate SSIM\n",
    "        h, w = A.shape[:2]\n",
    "        win = min(7, h if h % 2 == 1 else h-1, w if w % 2 == 1 else w-1)\n",
    "        if win >= 3:\n",
    "            ssim_val = structural_similarity(A, G, data_range=255, win_size=win, channel_axis=2)\n",
    "            ssims.append(ssim_val)\n",
    "        else:\n",
    "            ssims.append(np.nan)  # Cannot compute SSIM if window too small\n",
    "\n",
    "    avg_psnr = np.nanmean(psnrs)\n",
    "    avg_ssim = np.nanmean(ssims)\n",
    "\n",
    "    print(f\"Average PSNR: {avg_psnr:.2f} dB\")\n",
    "    print(f\"Average SSIM: {avg_ssim:.4f}\")\n",
    "\n",
    "    return avg_psnr, avg_ssim\n",
    "\n",
    "# ─── USAGE ───\n",
    "# Replace these with your actual folders\n",
    "actual_dir = '/Users/omvishal/Desktop/B/PSNR_SSIM/ORGNL'\n",
    "gen_dir    = '/Users/omvishal/Desktop/B/PSNR_SSIM/GEN'\n",
    "\n",
    "# Run the calculation\n",
    "calculate_psnr_ssim(actual_dir, gen_dir)"
   ]
  },
  {
   "cell_type": "code",
   "execution_count": 22,
   "id": "214d5047-f464-4193-ab6e-f4c1252348df",
   "metadata": {},
   "outputs": [],
   "source": [
    "import os\n",
    "import re\n",
    "import cv2\n",
    "import numpy as np\n",
    "from skimage.metrics import peak_signal_noise_ratio, structural_similarity\n",
    "\n",
    "# Function to extract index from original frames\n",
    "def index_from_original(filename):\n",
    "    \"\"\"\n",
    "    Extracts frame index from original filenames like 'frame_0002.png'\n",
    "    \"\"\"\n",
    "    m = re.search(r\"frame_(\\d+)\", filename)\n",
    "    return int(m.group(1)) if m else None\n",
    "\n",
    "# Function to extract index from generated frames\n",
    "def index_from_generated(filename):\n",
    "    \"\"\"\n",
    "    Extracts frame index from generated filenames like 'epoch250_sample2.png'\n",
    "    \"\"\"\n",
    "    m = re.search(r\"frame(\\d+)\", filename)\n",
    "    return int(m.group(1)) if m else None\n",
    "\n",
    "# Main function to calculate PSNR and SSIM\n",
    "def calculate_psnr_ssim(actual_dir, gen_dir):\n",
    "    # Build maps from index to filepath\n",
    "    orig_map = { index_from_original(fn): os.path.join(actual_dir, fn)\n",
    "                 for fn in os.listdir(actual_dir)\n",
    "                 if index_from_original(fn) is not None }\n",
    "    \n",
    "    gen_map  = { index_from_generated(fn): os.path.join(gen_dir, fn)\n",
    "                 for fn in os.listdir(gen_dir)\n",
    "                 if index_from_generated(fn) is not None }\n",
    "\n",
    "    # Find common frame indices\n",
    "    common = sorted(set(orig_map.keys()) & set(gen_map.keys()))\n",
    "    if not common:\n",
    "        raise RuntimeError(\"No matching frame indices found – check your filename patterns!\")\n",
    "\n",
    "    print(f\"Found {len(common)} matching frames.\\n\")\n",
    "\n",
    "    psnrs = []\n",
    "    ssims = []\n",
    "\n",
    "    for idx in common:\n",
    "        # Read and convert images\n",
    "        A = cv2.cvtColor(cv2.imread(orig_map[idx]), cv2.COLOR_BGR2RGB)\n",
    "        G = cv2.cvtColor(cv2.imread(gen_map[idx]),  cv2.COLOR_BGR2RGB)\n",
    "\n",
    "        # Resize generated image if necessary\n",
    "        if A.shape != G.shape:\n",
    "            G = cv2.resize(G, (A.shape[1], A.shape[0]))\n",
    "\n",
    "        # Calculate PSNR\n",
    "        psnr_val = peak_signal_noise_ratio(A, G, data_range=255)\n",
    "        psnrs.append(psnr_val)\n",
    "\n",
    "        # Calculate SSIM\n",
    "        h, w = A.shape[:2]\n",
    "        win = min(7, h if h % 2 == 1 else h-1, w if w % 2 == 1 else w-1)\n",
    "        if win >= 3:\n",
    "            ssim_val = structural_similarity(A, G, data_range=255, win_size=win, channel_axis=2)\n",
    "            ssims.append(ssim_val)\n",
    "        else:\n",
    "            ssims.append(np.nan)  # Cannot compute SSIM if window too small\n",
    "\n",
    "    avg_psnr = np.nanmean(psnrs)\n",
    "    avg_ssim = np.nanmean(ssims)\n",
    "\n",
    "    print(f\"Average PSNR: {avg_psnr:.2f} dB\")\n",
    "    print(f\"Average SSIM: {avg_ssim:.4f}\")\n",
    "\n",
    "    return avg_psnr, avg_ssim\n"
   ]
  },
  {
   "cell_type": "code",
   "execution_count": 26,
   "id": "54dac243-0315-422c-b89b-c023e10391f3",
   "metadata": {},
   "outputs": [
    {
     "name": "stdout",
     "output_type": "stream",
     "text": [
      "Found 8 matching frames.\n",
      "\n",
      "Average PSNR: 7.82 dB\n",
      "Average SSIM: 0.1074\n"
     ]
    },
    {
     "data": {
      "text/plain": [
       "(7.820737405457104, 0.10739673986349754)"
      ]
     },
     "execution_count": 26,
     "metadata": {},
     "output_type": "execute_result"
    }
   ],
   "source": [
    "# ─── USAGE ───\n",
    "# Replace these with your actual folders\n",
    "actual_dir = '/Users/omvishal/Desktop/B/PSNR_SSIM/ORGNL'\n",
    "gen_dir    = '/Users/omvishal/Desktop/B/synthetic_frames_subset_500'\n",
    "\n",
    "# Run the calculation\n",
    "calculate_psnr_ssim(actual_dir, gen_dir)"
   ]
  },
  {
   "cell_type": "code",
   "execution_count": 32,
   "id": "61b46a20-8ac2-4b6a-aceb-9c2c1fd356a2",
   "metadata": {},
   "outputs": [
    {
     "name": "stdout",
     "output_type": "stream",
     "text": [
      "Found 4 matching frames.\n",
      "\n",
      "Average PSNR: 10.87 dB\n",
      "Average SSIM: 0.2583\n"
     ]
    },
    {
     "data": {
      "text/plain": [
       "(10.87090822793237, 0.25831410308394753)"
      ]
     },
     "execution_count": 32,
     "metadata": {},
     "output_type": "execute_result"
    }
   ],
   "source": [
    "# ─── USAGE ───\n",
    "# Replace these with your actual folders\n",
    "actual_dir = '/Users/omvishal/Desktop/B/PSNR_SSIM/ORGNL'\n",
    "gen_dir    = '/Users/omvishal/Desktop/B/synthetic_frames_enhanced'\n",
    "\n",
    "# Run the calculation\n",
    "calculate_psnr_ssim(actual_dir, gen_dir)"
   ]
  },
  {
   "cell_type": "code",
   "execution_count": null,
   "id": "6c709423-a961-41a3-9658-68e8e56b17bf",
   "metadata": {},
   "outputs": [],
   "source": []
  }
 ],
 "metadata": {
  "kernelspec": {
   "display_name": "Python 3 (ipykernel)",
   "language": "python",
   "name": "python3"
  },
  "language_info": {
   "codemirror_mode": {
    "name": "ipython",
    "version": 3
   },
   "file_extension": ".py",
   "mimetype": "text/x-python",
   "name": "python",
   "nbconvert_exporter": "python",
   "pygments_lexer": "ipython3",
   "version": "3.12.4"
  }
 },
 "nbformat": 4,
 "nbformat_minor": 5
}
