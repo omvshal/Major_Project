{
 "cells": [
  {
   "cell_type": "code",
   "execution_count": 3,
   "id": "4c3e1c25-44d1-465f-83c8-b33eceecd2d2",
   "metadata": {},
   "outputs": [
    {
     "name": "stdout",
     "output_type": "stream",
     "text": [
      "Collecting natsort\n",
      "  Downloading natsort-8.4.0-py3-none-any.whl.metadata (21 kB)\n",
      "Downloading natsort-8.4.0-py3-none-any.whl (38 kB)\n",
      "Installing collected packages: natsort\n",
      "Successfully installed natsort-8.4.0\n",
      "\n",
      "\u001b[1m[\u001b[0m\u001b[34;49mnotice\u001b[0m\u001b[1;39;49m]\u001b[0m\u001b[39;49m A new release of pip is available: \u001b[0m\u001b[31;49m25.0\u001b[0m\u001b[39;49m -> \u001b[0m\u001b[32;49m25.1\u001b[0m\n",
      "\u001b[1m[\u001b[0m\u001b[34;49mnotice\u001b[0m\u001b[1;39;49m]\u001b[0m\u001b[39;49m To update, run: \u001b[0m\u001b[32;49mpip install --upgrade pip\u001b[0m\n"
     ]
    }
   ],
   "source": [
    "!pip install natsort"
   ]
  },
  {
   "cell_type": "code",
   "execution_count": 1,
   "id": "8c70f7b5-d599-42cc-9790-dbea8d95fc31",
   "metadata": {},
   "outputs": [],
   "source": [
    "import cv2\n",
    "import os\n",
    "\n",
    "def frames_to_video(frames_folder, output_video_path, fps=25, frame_size=None):\n",
    "    frame_files = [f for f in os.listdir(frames_folder) if f.endswith(('.jpg', '.png'))]\n",
    "    frame_files.sort()  # Simple lexicographic sort\n",
    "\n",
    "    if not frame_files:\n",
    "        print(\"No frames found in the folder.\")\n",
    "        return\n",
    "\n",
    "    first_frame = cv2.imread(os.path.join(frames_folder, frame_files[0]))\n",
    "    if frame_size is None:\n",
    "        height, width, _ = first_frame.shape\n",
    "        frame_size = (width, height)\n",
    "\n",
    "    out = cv2.VideoWriter(output_video_path, cv2.VideoWriter_fourcc(*'mp4v'), fps, frame_size)\n",
    "\n",
    "    for filename in frame_files:\n",
    "        frame_path = os.path.join(frames_folder, filename)\n",
    "        frame = cv2.imread(frame_path)\n",
    "        if (frame.shape[1], frame.shape[0]) != frame_size:\n",
    "            frame = cv2.resize(frame, frame_size)\n",
    "        out.write(frame)\n",
    "\n",
    "    out.release()\n",
    "    print(f\"Video saved at: {output_video_path}\")\n"
   ]
  },
  {
   "cell_type": "code",
   "execution_count": null,
   "id": "176e1887-e096-484a-8f8c-76a389b51db2",
   "metadata": {},
   "outputs": [],
   "source": []
  },
  {
   "cell_type": "code",
   "execution_count": 7,
   "id": "29f67d7d-ccde-4fec-98cb-60cca5fd9793",
   "metadata": {},
   "outputs": [
    {
     "name": "stdout",
     "output_type": "stream",
     "text": [
      "Video saved at: /Users/omvishal/Desktop/B/PSNR_SSIM/generated_video.mp4\n"
     ]
    }
   ],
   "source": [
    "frames_to_video(\n",
    "    frames_folder='/Users/omvishal/Desktop/B/PSNR_SSIM/GEN',  # your folder path\n",
    "    output_video_path='/Users/omvishal/Desktop/B/PSNR_SSIM/generated_video.mp4',\n",
    "    fps=24  # or whatever FPS your original video had\n",
    ")\n"
   ]
  },
  {
   "cell_type": "code",
   "execution_count": 9,
   "id": "6e2f4148-d4bd-4d5c-a767-35947fac928c",
   "metadata": {},
   "outputs": [
    {
     "name": "stdout",
     "output_type": "stream",
     "text": [
      "Video saved at: /Users/omvishal/Desktop/B/PSNR_SSIM/generated_video_1.mp4\n"
     ]
    }
   ],
   "source": [
    "\n",
    "frames_to_video(\n",
    "    frames_folder='/Users/omvishal/Desktop/B/PSNR_SSIM/fake_like_frames',  # your folder path\n",
    "    output_video_path='/Users/omvishal/Desktop/B/PSNR_SSIM/generated_video_1.mp4',\n",
    "    fps=24  # or whatever FPS your original video had\n",
    ")"
   ]
  },
  {
   "cell_type": "code",
   "execution_count": 7,
   "id": "8402b3ca-465a-46e5-b85d-8804974c1708",
   "metadata": {},
   "outputs": [
    {
     "name": "stdout",
     "output_type": "stream",
     "text": [
      "Video saved at: /Users/omvishal/Desktop/B/PSNR_SSIM/generated_video_fps8.mp4\n"
     ]
    }
   ],
   "source": [
    "frames_to_video(\n",
    "    frames_folder='/Users/omvishal/Desktop/B/PSNR_SSIM/GEN',  # your folder path\n",
    "    output_video_path='/Users/omvishal/Desktop/B/PSNR_SSIM/generated_video_fps8.mp4',\n",
    "    fps=8  # or whatever FPS your original video had\n",
    ")"
   ]
  },
  {
   "cell_type": "code",
   "execution_count": 11,
   "id": "823b5cfc-1d63-474a-8b82-b7795b5a8e1e",
   "metadata": {},
   "outputs": [
    {
     "name": "stdout",
     "output_type": "stream",
     "text": [
      "Video saved at: /Users/omvishal/Desktop/B/PSNR_SSIM/generated_video_fps24.mp4\n"
     ]
    }
   ],
   "source": [
    "frames_to_video(\n",
    "    frames_folder='/Users/omvishal/Desktop/B/PSNR_SSIM/GEN',  # your folder path\n",
    "    output_video_path='/Users/omvishal/Desktop/B/PSNR_SSIM/generated_video_fps24.mp4',\n",
    "    fps=24  # or whatever FPS your original video had\n",
    ")"
   ]
  },
  {
   "cell_type": "code",
   "execution_count": null,
   "id": "52faf9f6-896c-4d34-ad22-c828e25802cc",
   "metadata": {},
   "outputs": [],
   "source": []
  }
 ],
 "metadata": {
  "kernelspec": {
   "display_name": "Python 3 (ipykernel)",
   "language": "python",
   "name": "python3"
  },
  "language_info": {
   "codemirror_mode": {
    "name": "ipython",
    "version": 3
   },
   "file_extension": ".py",
   "mimetype": "text/x-python",
   "name": "python",
   "nbconvert_exporter": "python",
   "pygments_lexer": "ipython3",
   "version": "3.12.4"
  }
 },
 "nbformat": 4,
 "nbformat_minor": 5
}
